{
 "cells": [
  {
   "cell_type": "code",
   "execution_count": 1,
   "metadata": {},
   "outputs": [],
   "source": [
    "import pandas as pd"
   ]
  },
  {
   "cell_type": "code",
   "execution_count": 2,
   "metadata": {},
   "outputs": [
    {
     "data": {
      "application/vnd.microsoft.datawrangler.viewer.v0+json": {
       "columns": [
        {
         "name": "index",
         "rawType": "int64",
         "type": "integer"
        },
        {
         "name": "tweet_id",
         "rawType": "int64",
         "type": "integer"
        },
        {
         "name": "author_id",
         "rawType": "object",
         "type": "string"
        },
        {
         "name": "inbound",
         "rawType": "bool",
         "type": "boolean"
        },
        {
         "name": "created_at",
         "rawType": "object",
         "type": "string"
        },
        {
         "name": "text",
         "rawType": "object",
         "type": "string"
        },
        {
         "name": "response_tweet_id",
         "rawType": "object",
         "type": "unknown"
        },
        {
         "name": "in_response_to_tweet_id",
         "rawType": "float64",
         "type": "float"
        },
        {
         "name": "cleaned_text",
         "rawType": "object",
         "type": "string"
        }
       ],
       "conversionMethod": "pd.DataFrame",
       "ref": "1e30f984-ddd6-417e-8519-4c0bc0156d9f",
       "rows": [
        [
         "0",
         "1",
         "sprintcare",
         "False",
         "Tue Oct 31 22:10:47 +0000 2017",
         "@115712 I understand. I would like to assist you. We would need to get you into a private secured link to further assist.",
         "2",
         "3.0",
         "understand would like assist would need privat link assist"
        ],
        [
         "1",
         "2",
         "115712",
         "True",
         "Tue Oct 31 22:11:45 +0000 2017",
         "@sprintcare and how do you propose we do that",
         null,
         "1.0",
         "sprintcar"
        ],
        [
         "2",
         "3",
         "115712",
         "True",
         "Tue Oct 31 22:08:27 +0000 2017",
         "@sprintcare I have sent several private messages and no one is responding as usual",
         "1",
         "4.0",
         "sprintcar send sever privat messag one respond usual"
        ],
        [
         "3",
         "4",
         "sprintcare",
         "False",
         "Tue Oct 31 21:54:49 +0000 2017",
         "@115712 Please send us a Private Message so that we can further assist you. Just click ‘Message’ at the top of your profile.",
         "3",
         "5.0",
         "send messag assist just click top profil"
        ],
        [
         "4",
         "5",
         "115712",
         "True",
         "Tue Oct 31 21:49:35 +0000 2017",
         "@sprintcare I did.",
         "4",
         "6.0",
         "sprintcar"
        ]
       ],
       "shape": {
        "columns": 8,
        "rows": 5
       }
      },
      "text/html": [
       "<div>\n",
       "<style scoped>\n",
       "    .dataframe tbody tr th:only-of-type {\n",
       "        vertical-align: middle;\n",
       "    }\n",
       "\n",
       "    .dataframe tbody tr th {\n",
       "        vertical-align: top;\n",
       "    }\n",
       "\n",
       "    .dataframe thead th {\n",
       "        text-align: right;\n",
       "    }\n",
       "</style>\n",
       "<table border=\"1\" class=\"dataframe\">\n",
       "  <thead>\n",
       "    <tr style=\"text-align: right;\">\n",
       "      <th></th>\n",
       "      <th>tweet_id</th>\n",
       "      <th>author_id</th>\n",
       "      <th>inbound</th>\n",
       "      <th>created_at</th>\n",
       "      <th>text</th>\n",
       "      <th>response_tweet_id</th>\n",
       "      <th>in_response_to_tweet_id</th>\n",
       "      <th>cleaned_text</th>\n",
       "    </tr>\n",
       "  </thead>\n",
       "  <tbody>\n",
       "    <tr>\n",
       "      <th>0</th>\n",
       "      <td>1</td>\n",
       "      <td>sprintcare</td>\n",
       "      <td>False</td>\n",
       "      <td>Tue Oct 31 22:10:47 +0000 2017</td>\n",
       "      <td>@115712 I understand. I would like to assist y...</td>\n",
       "      <td>2</td>\n",
       "      <td>3.0</td>\n",
       "      <td>understand would like assist would need privat...</td>\n",
       "    </tr>\n",
       "    <tr>\n",
       "      <th>1</th>\n",
       "      <td>2</td>\n",
       "      <td>115712</td>\n",
       "      <td>True</td>\n",
       "      <td>Tue Oct 31 22:11:45 +0000 2017</td>\n",
       "      <td>@sprintcare and how do you propose we do that</td>\n",
       "      <td>NaN</td>\n",
       "      <td>1.0</td>\n",
       "      <td>sprintcar</td>\n",
       "    </tr>\n",
       "    <tr>\n",
       "      <th>2</th>\n",
       "      <td>3</td>\n",
       "      <td>115712</td>\n",
       "      <td>True</td>\n",
       "      <td>Tue Oct 31 22:08:27 +0000 2017</td>\n",
       "      <td>@sprintcare I have sent several private messag...</td>\n",
       "      <td>1</td>\n",
       "      <td>4.0</td>\n",
       "      <td>sprintcar send sever privat messag one respond...</td>\n",
       "    </tr>\n",
       "    <tr>\n",
       "      <th>3</th>\n",
       "      <td>4</td>\n",
       "      <td>sprintcare</td>\n",
       "      <td>False</td>\n",
       "      <td>Tue Oct 31 21:54:49 +0000 2017</td>\n",
       "      <td>@115712 Please send us a Private Message so th...</td>\n",
       "      <td>3</td>\n",
       "      <td>5.0</td>\n",
       "      <td>send messag assist just click top profil</td>\n",
       "    </tr>\n",
       "    <tr>\n",
       "      <th>4</th>\n",
       "      <td>5</td>\n",
       "      <td>115712</td>\n",
       "      <td>True</td>\n",
       "      <td>Tue Oct 31 21:49:35 +0000 2017</td>\n",
       "      <td>@sprintcare I did.</td>\n",
       "      <td>4</td>\n",
       "      <td>6.0</td>\n",
       "      <td>sprintcar</td>\n",
       "    </tr>\n",
       "  </tbody>\n",
       "</table>\n",
       "</div>"
      ],
      "text/plain": [
       "   tweet_id   author_id  inbound                      created_at  \\\n",
       "0         1  sprintcare    False  Tue Oct 31 22:10:47 +0000 2017   \n",
       "1         2      115712     True  Tue Oct 31 22:11:45 +0000 2017   \n",
       "2         3      115712     True  Tue Oct 31 22:08:27 +0000 2017   \n",
       "3         4  sprintcare    False  Tue Oct 31 21:54:49 +0000 2017   \n",
       "4         5      115712     True  Tue Oct 31 21:49:35 +0000 2017   \n",
       "\n",
       "                                                text response_tweet_id  \\\n",
       "0  @115712 I understand. I would like to assist y...                 2   \n",
       "1      @sprintcare and how do you propose we do that               NaN   \n",
       "2  @sprintcare I have sent several private messag...                 1   \n",
       "3  @115712 Please send us a Private Message so th...                 3   \n",
       "4                                 @sprintcare I did.                 4   \n",
       "\n",
       "   in_response_to_tweet_id                                       cleaned_text  \n",
       "0                      3.0  understand would like assist would need privat...  \n",
       "1                      1.0                                          sprintcar  \n",
       "2                      4.0  sprintcar send sever privat messag one respond...  \n",
       "3                      5.0           send messag assist just click top profil  \n",
       "4                      6.0                                          sprintcar  "
      ]
     },
     "execution_count": 2,
     "metadata": {},
     "output_type": "execute_result"
    }
   ],
   "source": [
    "# Read the data from the CSV file\n",
    "df = pd.read_csv(r'c:\\Users\\Victus\\Desktop\\AI Email Assistant\\data\\twcs\\cleaned_twcs.csv', encoding='utf-8')\n",
    "df.head()"
   ]
  },
  {
   "cell_type": "code",
   "execution_count": 3,
   "metadata": {},
   "outputs": [
    {
     "name": "stdout",
     "output_type": "stream",
     "text": [
      "<class 'pandas.core.frame.DataFrame'>\n",
      "RangeIndex: 39675 entries, 0 to 39674\n",
      "Data columns (total 8 columns):\n",
      " #   Column                   Non-Null Count  Dtype  \n",
      "---  ------                   --------------  -----  \n",
      " 0   tweet_id                 39675 non-null  int64  \n",
      " 1   author_id                39675 non-null  object \n",
      " 2   inbound                  39675 non-null  bool   \n",
      " 3   created_at               39675 non-null  object \n",
      " 4   text                     39675 non-null  object \n",
      " 5   response_tweet_id        26619 non-null  object \n",
      " 6   in_response_to_tweet_id  29462 non-null  float64\n",
      " 7   cleaned_text             39289 non-null  object \n",
      "dtypes: bool(1), float64(1), int64(1), object(5)\n",
      "memory usage: 2.2+ MB\n"
     ]
    }
   ],
   "source": [
    "df.info()"
   ]
  },
  {
   "cell_type": "code",
   "execution_count": 4,
   "metadata": {},
   "outputs": [
    {
     "data": {
      "application/vnd.microsoft.datawrangler.viewer.v0+json": {
       "columns": [
        {
         "name": "index",
         "rawType": "int64",
         "type": "integer"
        },
        {
         "name": "author_id",
         "rawType": "object",
         "type": "string"
        },
        {
         "name": "count",
         "rawType": "int64",
         "type": "integer"
        }
       ],
       "conversionMethod": "pd.DataFrame",
       "ref": "6026f7b4-4e05-43a0-9e49-5c000877b270",
       "rows": [
        [
         "0",
         "AmazonHelp",
         "2641"
        ],
        [
         "1",
         "AppleSupport",
         "1187"
        ],
        [
         "2",
         "Uber_Support",
         "694"
        ],
        [
         "3",
         "ChipotleTweets",
         "684"
        ],
        [
         "4",
         "British_Airways",
         "526"
        ],
        [
         "5",
         "Tesco",
         "463"
        ],
        [
         "6",
         "SpotifyCares",
         "462"
        ],
        [
         "7",
         "sainsburys",
         "449"
        ],
        [
         "8",
         "Delta",
         "438"
        ],
        [
         "9",
         "comcastcares",
         "435"
        ],
        [
         "10",
         "O2",
         "392"
        ],
        [
         "11",
         "AmericanAir",
         "368"
        ],
        [
         "12",
         "Ask_Spectrum",
         "362"
        ],
        [
         "13",
         "TMobileHelp",
         "359"
        ],
        [
         "14",
         "SouthwestAir",
         "357"
        ],
        [
         "15",
         "AskPlayStation",
         "332"
        ],
        [
         "16",
         "VerizonSupport",
         "331"
        ],
        [
         "17",
         "hulu_support",
         "331"
        ],
        [
         "18",
         "idea_cares",
         "322"
        ],
        [
         "19",
         "AirAsiaSupport",
         "318"
        ],
        [
         "20",
         "sprintcare",
         "306"
        ],
        [
         "21",
         "VirginTrains",
         "292"
        ],
        [
         "22",
         "Safaricom_Care",
         "276"
        ],
        [
         "23",
         "GWRHelp",
         "253"
        ],
        [
         "24",
         "XboxSupport",
         "239"
        ],
        [
         "25",
         "AskTarget",
         "226"
        ],
        [
         "26",
         "SW_Help",
         "206"
        ],
        [
         "27",
         "MicrosoftHelps",
         "201"
        ],
        [
         "28",
         "BofA_Help",
         "199"
        ],
        [
         "29",
         "AskeBay",
         "193"
        ],
        [
         "30",
         "AdobeCare",
         "185"
        ],
        [
         "31",
         "ArgosHelpers",
         "181"
        ],
        [
         "32",
         "CoxHelp",
         "174"
        ],
        [
         "33",
         "Morrisons",
         "173"
        ],
        [
         "34",
         "marksandspencer",
         "166"
        ],
        [
         "35",
         "UPSHelp",
         "155"
        ],
        [
         "36",
         "AskAmex",
         "146"
        ],
        [
         "37",
         "ATVIAssist",
         "131"
        ],
        [
         "38",
         "LondonMidland",
         "121"
        ],
        [
         "39",
         "GloCare",
         "117"
        ],
        [
         "40",
         "AskLyft",
         "117"
        ],
        [
         "41",
         "AldiUK",
         "116"
        ],
        [
         "42",
         "VirginAtlantic",
         "110"
        ],
        [
         "43",
         "AzureSupport",
         "104"
        ],
        [
         "44",
         "Ask_WellsFargo",
         "101"
        ],
        [
         "45",
         "ChaseSupport",
         "100"
        ],
        [
         "46",
         "GreggsOfficial",
         "99"
        ],
        [
         "47",
         "HPSupport",
         "97"
        ],
        [
         "48",
         "AskPayPal",
         "96"
        ],
        [
         "49",
         "AlaskaAir",
         "90"
        ]
       ],
       "shape": {
        "columns": 2,
        "rows": 11043
       }
      },
      "text/html": [
       "<div>\n",
       "<style scoped>\n",
       "    .dataframe tbody tr th:only-of-type {\n",
       "        vertical-align: middle;\n",
       "    }\n",
       "\n",
       "    .dataframe tbody tr th {\n",
       "        vertical-align: top;\n",
       "    }\n",
       "\n",
       "    .dataframe thead th {\n",
       "        text-align: right;\n",
       "    }\n",
       "</style>\n",
       "<table border=\"1\" class=\"dataframe\">\n",
       "  <thead>\n",
       "    <tr style=\"text-align: right;\">\n",
       "      <th></th>\n",
       "      <th>author_id</th>\n",
       "      <th>count</th>\n",
       "    </tr>\n",
       "  </thead>\n",
       "  <tbody>\n",
       "    <tr>\n",
       "      <th>0</th>\n",
       "      <td>AmazonHelp</td>\n",
       "      <td>2641</td>\n",
       "    </tr>\n",
       "    <tr>\n",
       "      <th>1</th>\n",
       "      <td>AppleSupport</td>\n",
       "      <td>1187</td>\n",
       "    </tr>\n",
       "    <tr>\n",
       "      <th>2</th>\n",
       "      <td>Uber_Support</td>\n",
       "      <td>694</td>\n",
       "    </tr>\n",
       "    <tr>\n",
       "      <th>3</th>\n",
       "      <td>ChipotleTweets</td>\n",
       "      <td>684</td>\n",
       "    </tr>\n",
       "    <tr>\n",
       "      <th>4</th>\n",
       "      <td>British_Airways</td>\n",
       "      <td>526</td>\n",
       "    </tr>\n",
       "    <tr>\n",
       "      <th>...</th>\n",
       "      <td>...</td>\n",
       "      <td>...</td>\n",
       "    </tr>\n",
       "    <tr>\n",
       "      <th>11038</th>\n",
       "      <td>120523</td>\n",
       "      <td>1</td>\n",
       "    </tr>\n",
       "    <tr>\n",
       "      <th>11039</th>\n",
       "      <td>120522</td>\n",
       "      <td>1</td>\n",
       "    </tr>\n",
       "    <tr>\n",
       "      <th>11040</th>\n",
       "      <td>120520</td>\n",
       "      <td>1</td>\n",
       "    </tr>\n",
       "    <tr>\n",
       "      <th>11041</th>\n",
       "      <td>120519</td>\n",
       "      <td>1</td>\n",
       "    </tr>\n",
       "    <tr>\n",
       "      <th>11042</th>\n",
       "      <td>127190</td>\n",
       "      <td>1</td>\n",
       "    </tr>\n",
       "  </tbody>\n",
       "</table>\n",
       "<p>11043 rows × 2 columns</p>\n",
       "</div>"
      ],
      "text/plain": [
       "             author_id  count\n",
       "0           AmazonHelp   2641\n",
       "1         AppleSupport   1187\n",
       "2         Uber_Support    694\n",
       "3       ChipotleTweets    684\n",
       "4      British_Airways    526\n",
       "...                ...    ...\n",
       "11038           120523      1\n",
       "11039           120522      1\n",
       "11040           120520      1\n",
       "11041           120519      1\n",
       "11042           127190      1\n",
       "\n",
       "[11043 rows x 2 columns]"
      ]
     },
     "execution_count": 4,
     "metadata": {},
     "output_type": "execute_result"
    }
   ],
   "source": [
    "df['author_id'].value_counts().reset_index()"
   ]
  },
  {
   "cell_type": "code",
   "execution_count": 5,
   "metadata": {},
   "outputs": [],
   "source": [
    "df = df.drop(['text', 'tweet_id', 'created_at', 'response_tweet_id', 'in_response_to_tweet_id'], axis=1)"
   ]
  },
  {
   "cell_type": "code",
   "execution_count": 6,
   "metadata": {},
   "outputs": [
    {
     "name": "stdout",
     "output_type": "stream",
     "text": [
      "    author_id  inbound                                       cleaned_text\n",
      "0  sprintcare    False  understand would like assist would need privat...\n",
      "1      115712     True                                          sprintcar\n",
      "2      115712     True  sprintcar send sever privat messag one respond...\n",
      "3  sprintcare    False           send messag assist just click top profil\n",
      "4      115712     True                                          sprintcar\n"
     ]
    }
   ],
   "source": [
    "print(df.head())"
   ]
  },
  {
   "cell_type": "code",
   "execution_count": 7,
   "metadata": {},
   "outputs": [],
   "source": [
    "df['cleaned_text'] = df['cleaned_text'].fillna('')"
   ]
  },
  {
   "cell_type": "code",
   "execution_count": 8,
   "metadata": {},
   "outputs": [
    {
     "name": "stdout",
     "output_type": "stream",
     "text": [
      "<class 'pandas.core.frame.DataFrame'>\n",
      "RangeIndex: 39675 entries, 0 to 39674\n",
      "Data columns (total 3 columns):\n",
      " #   Column        Non-Null Count  Dtype \n",
      "---  ------        --------------  ----- \n",
      " 0   author_id     39675 non-null  object\n",
      " 1   inbound       39675 non-null  bool  \n",
      " 2   cleaned_text  39675 non-null  object\n",
      "dtypes: bool(1), object(2)\n",
      "memory usage: 658.8+ KB\n"
     ]
    }
   ],
   "source": [
    "df.info()"
   ]
  },
  {
   "cell_type": "markdown",
   "metadata": {},
   "source": [
    "## Feature Extraction"
   ]
  },
  {
   "cell_type": "code",
   "execution_count": 9,
   "metadata": {},
   "outputs": [],
   "source": [
    "from sklearn.feature_extraction.text import CountVectorizer\n",
    "\n",
    "df = df[df[\"inbound\"] == True]\n",
    "\n",
    "vectorizer = CountVectorizer(max_features=500, stop_words=\"english\")  # 5000 en sık geçen kelimeyi al\n",
    "X = vectorizer.fit_transform(df[\"cleaned_text\"])  # Metni sayısal forma çevir"
   ]
  },
  {
   "cell_type": "code",
   "execution_count": 10,
   "metadata": {},
   "outputs": [
    {
     "data": {
      "text/html": [
       "<style>#sk-container-id-1 {\n",
       "  /* Definition of color scheme common for light and dark mode */\n",
       "  --sklearn-color-text: black;\n",
       "  --sklearn-color-line: gray;\n",
       "  /* Definition of color scheme for unfitted estimators */\n",
       "  --sklearn-color-unfitted-level-0: #fff5e6;\n",
       "  --sklearn-color-unfitted-level-1: #f6e4d2;\n",
       "  --sklearn-color-unfitted-level-2: #ffe0b3;\n",
       "  --sklearn-color-unfitted-level-3: chocolate;\n",
       "  /* Definition of color scheme for fitted estimators */\n",
       "  --sklearn-color-fitted-level-0: #f0f8ff;\n",
       "  --sklearn-color-fitted-level-1: #d4ebff;\n",
       "  --sklearn-color-fitted-level-2: #b3dbfd;\n",
       "  --sklearn-color-fitted-level-3: cornflowerblue;\n",
       "\n",
       "  /* Specific color for light theme */\n",
       "  --sklearn-color-text-on-default-background: var(--sg-text-color, var(--theme-code-foreground, var(--jp-content-font-color1, black)));\n",
       "  --sklearn-color-background: var(--sg-background-color, var(--theme-background, var(--jp-layout-color0, white)));\n",
       "  --sklearn-color-border-box: var(--sg-text-color, var(--theme-code-foreground, var(--jp-content-font-color1, black)));\n",
       "  --sklearn-color-icon: #696969;\n",
       "\n",
       "  @media (prefers-color-scheme: dark) {\n",
       "    /* Redefinition of color scheme for dark theme */\n",
       "    --sklearn-color-text-on-default-background: var(--sg-text-color, var(--theme-code-foreground, var(--jp-content-font-color1, white)));\n",
       "    --sklearn-color-background: var(--sg-background-color, var(--theme-background, var(--jp-layout-color0, #111)));\n",
       "    --sklearn-color-border-box: var(--sg-text-color, var(--theme-code-foreground, var(--jp-content-font-color1, white)));\n",
       "    --sklearn-color-icon: #878787;\n",
       "  }\n",
       "}\n",
       "\n",
       "#sk-container-id-1 {\n",
       "  color: var(--sklearn-color-text);\n",
       "}\n",
       "\n",
       "#sk-container-id-1 pre {\n",
       "  padding: 0;\n",
       "}\n",
       "\n",
       "#sk-container-id-1 input.sk-hidden--visually {\n",
       "  border: 0;\n",
       "  clip: rect(1px 1px 1px 1px);\n",
       "  clip: rect(1px, 1px, 1px, 1px);\n",
       "  height: 1px;\n",
       "  margin: -1px;\n",
       "  overflow: hidden;\n",
       "  padding: 0;\n",
       "  position: absolute;\n",
       "  width: 1px;\n",
       "}\n",
       "\n",
       "#sk-container-id-1 div.sk-dashed-wrapped {\n",
       "  border: 1px dashed var(--sklearn-color-line);\n",
       "  margin: 0 0.4em 0.5em 0.4em;\n",
       "  box-sizing: border-box;\n",
       "  padding-bottom: 0.4em;\n",
       "  background-color: var(--sklearn-color-background);\n",
       "}\n",
       "\n",
       "#sk-container-id-1 div.sk-container {\n",
       "  /* jupyter's `normalize.less` sets `[hidden] { display: none; }`\n",
       "     but bootstrap.min.css set `[hidden] { display: none !important; }`\n",
       "     so we also need the `!important` here to be able to override the\n",
       "     default hidden behavior on the sphinx rendered scikit-learn.org.\n",
       "     See: https://github.com/scikit-learn/scikit-learn/issues/21755 */\n",
       "  display: inline-block !important;\n",
       "  position: relative;\n",
       "}\n",
       "\n",
       "#sk-container-id-1 div.sk-text-repr-fallback {\n",
       "  display: none;\n",
       "}\n",
       "\n",
       "div.sk-parallel-item,\n",
       "div.sk-serial,\n",
       "div.sk-item {\n",
       "  /* draw centered vertical line to link estimators */\n",
       "  background-image: linear-gradient(var(--sklearn-color-text-on-default-background), var(--sklearn-color-text-on-default-background));\n",
       "  background-size: 2px 100%;\n",
       "  background-repeat: no-repeat;\n",
       "  background-position: center center;\n",
       "}\n",
       "\n",
       "/* Parallel-specific style estimator block */\n",
       "\n",
       "#sk-container-id-1 div.sk-parallel-item::after {\n",
       "  content: \"\";\n",
       "  width: 100%;\n",
       "  border-bottom: 2px solid var(--sklearn-color-text-on-default-background);\n",
       "  flex-grow: 1;\n",
       "}\n",
       "\n",
       "#sk-container-id-1 div.sk-parallel {\n",
       "  display: flex;\n",
       "  align-items: stretch;\n",
       "  justify-content: center;\n",
       "  background-color: var(--sklearn-color-background);\n",
       "  position: relative;\n",
       "}\n",
       "\n",
       "#sk-container-id-1 div.sk-parallel-item {\n",
       "  display: flex;\n",
       "  flex-direction: column;\n",
       "}\n",
       "\n",
       "#sk-container-id-1 div.sk-parallel-item:first-child::after {\n",
       "  align-self: flex-end;\n",
       "  width: 50%;\n",
       "}\n",
       "\n",
       "#sk-container-id-1 div.sk-parallel-item:last-child::after {\n",
       "  align-self: flex-start;\n",
       "  width: 50%;\n",
       "}\n",
       "\n",
       "#sk-container-id-1 div.sk-parallel-item:only-child::after {\n",
       "  width: 0;\n",
       "}\n",
       "\n",
       "/* Serial-specific style estimator block */\n",
       "\n",
       "#sk-container-id-1 div.sk-serial {\n",
       "  display: flex;\n",
       "  flex-direction: column;\n",
       "  align-items: center;\n",
       "  background-color: var(--sklearn-color-background);\n",
       "  padding-right: 1em;\n",
       "  padding-left: 1em;\n",
       "}\n",
       "\n",
       "\n",
       "/* Toggleable style: style used for estimator/Pipeline/ColumnTransformer box that is\n",
       "clickable and can be expanded/collapsed.\n",
       "- Pipeline and ColumnTransformer use this feature and define the default style\n",
       "- Estimators will overwrite some part of the style using the `sk-estimator` class\n",
       "*/\n",
       "\n",
       "/* Pipeline and ColumnTransformer style (default) */\n",
       "\n",
       "#sk-container-id-1 div.sk-toggleable {\n",
       "  /* Default theme specific background. It is overwritten whether we have a\n",
       "  specific estimator or a Pipeline/ColumnTransformer */\n",
       "  background-color: var(--sklearn-color-background);\n",
       "}\n",
       "\n",
       "/* Toggleable label */\n",
       "#sk-container-id-1 label.sk-toggleable__label {\n",
       "  cursor: pointer;\n",
       "  display: block;\n",
       "  width: 100%;\n",
       "  margin-bottom: 0;\n",
       "  padding: 0.5em;\n",
       "  box-sizing: border-box;\n",
       "  text-align: center;\n",
       "}\n",
       "\n",
       "#sk-container-id-1 label.sk-toggleable__label-arrow:before {\n",
       "  /* Arrow on the left of the label */\n",
       "  content: \"▸\";\n",
       "  float: left;\n",
       "  margin-right: 0.25em;\n",
       "  color: var(--sklearn-color-icon);\n",
       "}\n",
       "\n",
       "#sk-container-id-1 label.sk-toggleable__label-arrow:hover:before {\n",
       "  color: var(--sklearn-color-text);\n",
       "}\n",
       "\n",
       "/* Toggleable content - dropdown */\n",
       "\n",
       "#sk-container-id-1 div.sk-toggleable__content {\n",
       "  max-height: 0;\n",
       "  max-width: 0;\n",
       "  overflow: hidden;\n",
       "  text-align: left;\n",
       "  /* unfitted */\n",
       "  background-color: var(--sklearn-color-unfitted-level-0);\n",
       "}\n",
       "\n",
       "#sk-container-id-1 div.sk-toggleable__content.fitted {\n",
       "  /* fitted */\n",
       "  background-color: var(--sklearn-color-fitted-level-0);\n",
       "}\n",
       "\n",
       "#sk-container-id-1 div.sk-toggleable__content pre {\n",
       "  margin: 0.2em;\n",
       "  border-radius: 0.25em;\n",
       "  color: var(--sklearn-color-text);\n",
       "  /* unfitted */\n",
       "  background-color: var(--sklearn-color-unfitted-level-0);\n",
       "}\n",
       "\n",
       "#sk-container-id-1 div.sk-toggleable__content.fitted pre {\n",
       "  /* unfitted */\n",
       "  background-color: var(--sklearn-color-fitted-level-0);\n",
       "}\n",
       "\n",
       "#sk-container-id-1 input.sk-toggleable__control:checked~div.sk-toggleable__content {\n",
       "  /* Expand drop-down */\n",
       "  max-height: 200px;\n",
       "  max-width: 100%;\n",
       "  overflow: auto;\n",
       "}\n",
       "\n",
       "#sk-container-id-1 input.sk-toggleable__control:checked~label.sk-toggleable__label-arrow:before {\n",
       "  content: \"▾\";\n",
       "}\n",
       "\n",
       "/* Pipeline/ColumnTransformer-specific style */\n",
       "\n",
       "#sk-container-id-1 div.sk-label input.sk-toggleable__control:checked~label.sk-toggleable__label {\n",
       "  color: var(--sklearn-color-text);\n",
       "  background-color: var(--sklearn-color-unfitted-level-2);\n",
       "}\n",
       "\n",
       "#sk-container-id-1 div.sk-label.fitted input.sk-toggleable__control:checked~label.sk-toggleable__label {\n",
       "  background-color: var(--sklearn-color-fitted-level-2);\n",
       "}\n",
       "\n",
       "/* Estimator-specific style */\n",
       "\n",
       "/* Colorize estimator box */\n",
       "#sk-container-id-1 div.sk-estimator input.sk-toggleable__control:checked~label.sk-toggleable__label {\n",
       "  /* unfitted */\n",
       "  background-color: var(--sklearn-color-unfitted-level-2);\n",
       "}\n",
       "\n",
       "#sk-container-id-1 div.sk-estimator.fitted input.sk-toggleable__control:checked~label.sk-toggleable__label {\n",
       "  /* fitted */\n",
       "  background-color: var(--sklearn-color-fitted-level-2);\n",
       "}\n",
       "\n",
       "#sk-container-id-1 div.sk-label label.sk-toggleable__label,\n",
       "#sk-container-id-1 div.sk-label label {\n",
       "  /* The background is the default theme color */\n",
       "  color: var(--sklearn-color-text-on-default-background);\n",
       "}\n",
       "\n",
       "/* On hover, darken the color of the background */\n",
       "#sk-container-id-1 div.sk-label:hover label.sk-toggleable__label {\n",
       "  color: var(--sklearn-color-text);\n",
       "  background-color: var(--sklearn-color-unfitted-level-2);\n",
       "}\n",
       "\n",
       "/* Label box, darken color on hover, fitted */\n",
       "#sk-container-id-1 div.sk-label.fitted:hover label.sk-toggleable__label.fitted {\n",
       "  color: var(--sklearn-color-text);\n",
       "  background-color: var(--sklearn-color-fitted-level-2);\n",
       "}\n",
       "\n",
       "/* Estimator label */\n",
       "\n",
       "#sk-container-id-1 div.sk-label label {\n",
       "  font-family: monospace;\n",
       "  font-weight: bold;\n",
       "  display: inline-block;\n",
       "  line-height: 1.2em;\n",
       "}\n",
       "\n",
       "#sk-container-id-1 div.sk-label-container {\n",
       "  text-align: center;\n",
       "}\n",
       "\n",
       "/* Estimator-specific */\n",
       "#sk-container-id-1 div.sk-estimator {\n",
       "  font-family: monospace;\n",
       "  border: 1px dotted var(--sklearn-color-border-box);\n",
       "  border-radius: 0.25em;\n",
       "  box-sizing: border-box;\n",
       "  margin-bottom: 0.5em;\n",
       "  /* unfitted */\n",
       "  background-color: var(--sklearn-color-unfitted-level-0);\n",
       "}\n",
       "\n",
       "#sk-container-id-1 div.sk-estimator.fitted {\n",
       "  /* fitted */\n",
       "  background-color: var(--sklearn-color-fitted-level-0);\n",
       "}\n",
       "\n",
       "/* on hover */\n",
       "#sk-container-id-1 div.sk-estimator:hover {\n",
       "  /* unfitted */\n",
       "  background-color: var(--sklearn-color-unfitted-level-2);\n",
       "}\n",
       "\n",
       "#sk-container-id-1 div.sk-estimator.fitted:hover {\n",
       "  /* fitted */\n",
       "  background-color: var(--sklearn-color-fitted-level-2);\n",
       "}\n",
       "\n",
       "/* Specification for estimator info (e.g. \"i\" and \"?\") */\n",
       "\n",
       "/* Common style for \"i\" and \"?\" */\n",
       "\n",
       ".sk-estimator-doc-link,\n",
       "a:link.sk-estimator-doc-link,\n",
       "a:visited.sk-estimator-doc-link {\n",
       "  float: right;\n",
       "  font-size: smaller;\n",
       "  line-height: 1em;\n",
       "  font-family: monospace;\n",
       "  background-color: var(--sklearn-color-background);\n",
       "  border-radius: 1em;\n",
       "  height: 1em;\n",
       "  width: 1em;\n",
       "  text-decoration: none !important;\n",
       "  margin-left: 1ex;\n",
       "  /* unfitted */\n",
       "  border: var(--sklearn-color-unfitted-level-1) 1pt solid;\n",
       "  color: var(--sklearn-color-unfitted-level-1);\n",
       "}\n",
       "\n",
       ".sk-estimator-doc-link.fitted,\n",
       "a:link.sk-estimator-doc-link.fitted,\n",
       "a:visited.sk-estimator-doc-link.fitted {\n",
       "  /* fitted */\n",
       "  border: var(--sklearn-color-fitted-level-1) 1pt solid;\n",
       "  color: var(--sklearn-color-fitted-level-1);\n",
       "}\n",
       "\n",
       "/* On hover */\n",
       "div.sk-estimator:hover .sk-estimator-doc-link:hover,\n",
       ".sk-estimator-doc-link:hover,\n",
       "div.sk-label-container:hover .sk-estimator-doc-link:hover,\n",
       ".sk-estimator-doc-link:hover {\n",
       "  /* unfitted */\n",
       "  background-color: var(--sklearn-color-unfitted-level-3);\n",
       "  color: var(--sklearn-color-background);\n",
       "  text-decoration: none;\n",
       "}\n",
       "\n",
       "div.sk-estimator.fitted:hover .sk-estimator-doc-link.fitted:hover,\n",
       ".sk-estimator-doc-link.fitted:hover,\n",
       "div.sk-label-container:hover .sk-estimator-doc-link.fitted:hover,\n",
       ".sk-estimator-doc-link.fitted:hover {\n",
       "  /* fitted */\n",
       "  background-color: var(--sklearn-color-fitted-level-3);\n",
       "  color: var(--sklearn-color-background);\n",
       "  text-decoration: none;\n",
       "}\n",
       "\n",
       "/* Span, style for the box shown on hovering the info icon */\n",
       ".sk-estimator-doc-link span {\n",
       "  display: none;\n",
       "  z-index: 9999;\n",
       "  position: relative;\n",
       "  font-weight: normal;\n",
       "  right: .2ex;\n",
       "  padding: .5ex;\n",
       "  margin: .5ex;\n",
       "  width: min-content;\n",
       "  min-width: 20ex;\n",
       "  max-width: 50ex;\n",
       "  color: var(--sklearn-color-text);\n",
       "  box-shadow: 2pt 2pt 4pt #999;\n",
       "  /* unfitted */\n",
       "  background: var(--sklearn-color-unfitted-level-0);\n",
       "  border: .5pt solid var(--sklearn-color-unfitted-level-3);\n",
       "}\n",
       "\n",
       ".sk-estimator-doc-link.fitted span {\n",
       "  /* fitted */\n",
       "  background: var(--sklearn-color-fitted-level-0);\n",
       "  border: var(--sklearn-color-fitted-level-3);\n",
       "}\n",
       "\n",
       ".sk-estimator-doc-link:hover span {\n",
       "  display: block;\n",
       "}\n",
       "\n",
       "/* \"?\"-specific style due to the `<a>` HTML tag */\n",
       "\n",
       "#sk-container-id-1 a.estimator_doc_link {\n",
       "  float: right;\n",
       "  font-size: 1rem;\n",
       "  line-height: 1em;\n",
       "  font-family: monospace;\n",
       "  background-color: var(--sklearn-color-background);\n",
       "  border-radius: 1rem;\n",
       "  height: 1rem;\n",
       "  width: 1rem;\n",
       "  text-decoration: none;\n",
       "  /* unfitted */\n",
       "  color: var(--sklearn-color-unfitted-level-1);\n",
       "  border: var(--sklearn-color-unfitted-level-1) 1pt solid;\n",
       "}\n",
       "\n",
       "#sk-container-id-1 a.estimator_doc_link.fitted {\n",
       "  /* fitted */\n",
       "  border: var(--sklearn-color-fitted-level-1) 1pt solid;\n",
       "  color: var(--sklearn-color-fitted-level-1);\n",
       "}\n",
       "\n",
       "/* On hover */\n",
       "#sk-container-id-1 a.estimator_doc_link:hover {\n",
       "  /* unfitted */\n",
       "  background-color: var(--sklearn-color-unfitted-level-3);\n",
       "  color: var(--sklearn-color-background);\n",
       "  text-decoration: none;\n",
       "}\n",
       "\n",
       "#sk-container-id-1 a.estimator_doc_link.fitted:hover {\n",
       "  /* fitted */\n",
       "  background-color: var(--sklearn-color-fitted-level-3);\n",
       "}\n",
       "</style><div id=\"sk-container-id-1\" class=\"sk-top-container\"><div class=\"sk-text-repr-fallback\"><pre>LatentDirichletAllocation(n_components=5, random_state=42)</pre><b>In a Jupyter environment, please rerun this cell to show the HTML representation or trust the notebook. <br />On GitHub, the HTML representation is unable to render, please try loading this page with nbviewer.org.</b></div><div class=\"sk-container\" hidden><div class=\"sk-item\"><div class=\"sk-estimator fitted sk-toggleable\"><input class=\"sk-toggleable__control sk-hidden--visually\" id=\"sk-estimator-id-1\" type=\"checkbox\" checked><label for=\"sk-estimator-id-1\" class=\"sk-toggleable__label fitted sk-toggleable__label-arrow fitted\">&nbsp;&nbsp;LatentDirichletAllocation<a class=\"sk-estimator-doc-link fitted\" rel=\"noreferrer\" target=\"_blank\" href=\"https://scikit-learn.org/1.4/modules/generated/sklearn.decomposition.LatentDirichletAllocation.html\">?<span>Documentation for LatentDirichletAllocation</span></a><span class=\"sk-estimator-doc-link fitted\">i<span>Fitted</span></span></label><div class=\"sk-toggleable__content fitted\"><pre>LatentDirichletAllocation(n_components=5, random_state=42)</pre></div> </div></div></div></div>"
      ],
      "text/plain": [
       "LatentDirichletAllocation(n_components=5, random_state=42)"
      ]
     },
     "execution_count": 10,
     "metadata": {},
     "output_type": "execute_result"
    }
   ],
   "source": [
    "from sklearn.decomposition import LatentDirichletAllocation\n",
    "\n",
    "# LDA modelini oluştur ve eğit\n",
    "num_topics = 5  # Çıkarılacak konu sayısı (istersen artırabiliriz)\n",
    "lda = LatentDirichletAllocation(n_components=num_topics, random_state=42)\n",
    "lda.fit(X)"
   ]
  },
  {
   "cell_type": "code",
   "execution_count": 11,
   "metadata": {},
   "outputs": [
    {
     "name": "stdout",
     "output_type": "stream",
     "text": [
      "📌 **Konu 1:**  ['servic', 'custom', 'email', 'say', 'number', 'internet', 'askspectrum', 'phone', 'comcastcar', 'receiv']\n",
      "📌 **Konu 2:**  ['flight', 'britishairway', 'time', 'delta', 'americanair', 'day', 'southwestair', 'thank', 'im', 'virgintrain']\n",
      "📌 **Konu 3:**  ['need', 'ubersupport', 'amazon', 'order', 'charg', 'want', 'dont', 'account', 'cancel', 'ideacar']\n",
      "📌 **Konu 4:**  ['thank', 'tesco', 'o2', 'sainsburi', 'airasiasupport', 'marksandspenc', 'check', 'plea', 'morrison', 'xboxsupport']\n",
      "📌 **Konu 5:**  ['applesupport', 'chipotletweet', 'updat', 'work', 'app', 'new', 'phone', 'tri', 'fix', 'iphon']\n"
     ]
    }
   ],
   "source": [
    "# En sık geçen kelimeleri içeren konuları göster\n",
    "def print_topics(model, vectorizer, top_n=10):\n",
    "    words = vectorizer.get_feature_names_out()\n",
    "    for idx, topic in enumerate(model.components_):\n",
    "        print(f\"📌 **Konu {idx+1}:** \", [words[i] for i in topic.argsort()[:-top_n - 1:-1]])\n",
    "\n",
    "print_topics(lda, vectorizer)"
   ]
  },
  {
   "cell_type": "code",
   "execution_count": 12,
   "metadata": {},
   "outputs": [
    {
     "name": "stdout",
     "output_type": "stream",
     "text": [
      "                                         cleaned_text  topic\n",
      "1                                           sprintcar      0\n",
      "2   sprintcar send sever privat messag one respond...      0\n",
      "4                                           sprintcar      0\n",
      "6                         sprintcar bad custom servic      0\n",
      "8      sprintcar you gonna chang connect whole famili      4\n",
      "10                          sprintcar sinc sign day 1      0\n",
      "12  115714 y’all lie connect 5 lte still won’t loa...      0\n",
      "14  115714 whenev contact custom support tell enab...      0\n",
      "16  askspectrum would like email copi one sinc spe...      0\n",
      "18    askspectrum receiv corpor offic would like copi      0\n"
     ]
    }
   ],
   "source": [
    "import numpy as np\n",
    "\n",
    "# Her e-posta için en olası konuyu belirle\n",
    "topic_results = lda.transform(X)\n",
    "df[\"topic\"] = np.argmax(topic_results, axis=1)\n",
    "\n",
    "# İlk 10 satırı göster\n",
    "print(df[[\"cleaned_text\", \"topic\"]].head(10))"
   ]
  },
  {
   "cell_type": "code",
   "execution_count": 13,
   "metadata": {},
   "outputs": [
    {
     "name": "stdout",
     "output_type": "stream",
     "text": [
      "                                         cleaned_text      topic_label\n",
      "1                                           sprintcar  General Support\n",
      "2   sprintcar send sever privat messag one respond...  General Support\n",
      "4                                           sprintcar  General Support\n",
      "6                         sprintcar bad custom servic  General Support\n",
      "8      sprintcar you gonna chang connect whole famili     Tech Support\n",
      "10                          sprintcar sinc sign day 1  General Support\n",
      "12  115714 y’all lie connect 5 lte still won’t loa...  General Support\n",
      "14  115714 whenev contact custom support tell enab...  General Support\n",
      "16  askspectrum would like email copi one sinc spe...  General Support\n",
      "18    askspectrum receiv corpor offic would like copi  General Support\n"
     ]
    }
   ],
   "source": [
    "topic_labels = {\n",
    "    0: \"General Support\",\n",
    "    1: \"Fly / Airline Issues\",\n",
    "    2: \"Order / Payment Issues\",\n",
    "    3: \"Retail / Grocery Store Complaints\",\n",
    "    4: \"Tech Support\"\n",
    "}\n",
    "\n",
    "# Konu numaralarını anlamlı etiketlere çevir\n",
    "df[\"topic_label\"] = df[\"topic\"].map(topic_labels)\n",
    "\n",
    "# İlk 10 satırı göster\n",
    "print(df[[\"cleaned_text\", \"topic_label\"]].head(10))"
   ]
  },
  {
   "cell_type": "code",
   "execution_count": 14,
   "metadata": {},
   "outputs": [
    {
     "name": "stdout",
     "output_type": "stream",
     "text": [
      "Veri başarıyla hazırlandı! 🚀\n",
      "Eğitim kümesi boyutu: (17382, 2570)\n",
      "Test kümesi boyutu: (4346, 2570)\n"
     ]
    }
   ],
   "source": [
    "from sklearn.feature_extraction.text import TfidfVectorizer\n",
    "from sklearn.model_selection import train_test_split\n",
    "\n",
    "# Veri kümesini temizleyelim\n",
    "df = df.dropna(subset=[\"cleaned_text\", \"topic_label\"])  # Boş satırları sil\n",
    "\n",
    "# X (metin) ve Y (etiket) olarak ayır\n",
    "X = df[\"cleaned_text\"]\n",
    "y = df[\"topic_label\"]\n",
    "\n",
    "# TF-IDF ile metni vektörleştir\n",
    "vectorizer = TfidfVectorizer(max_features=5000)\n",
    "X_tfidf = vectorizer.fit_transform(X)\n",
    "\n",
    "\n",
    "import joblib\n",
    "\n",
    "# Eğitilmiş TF-IDF vektörleştiriciyi kaydet\n",
    "joblib.dump(vectorizer, r'C:\\Users\\Victus\\Desktop\\AI Email Assistant\\models\\tfidf_vectorizer.pkl')\n",
    "\n",
    "# Eğitim ve test setlerine ayır\n",
    "X_train, X_test, y_train, y_test = train_test_split(X_tfidf, y, test_size=0.2, random_state=42)\n",
    "\n",
    "print(\"Veri başarıyla hazırlandı! 🚀\")\n",
    "print(\"Eğitim kümesi boyutu:\", X_train.shape)\n",
    "print(\"Test kümesi boyutu:\", X_test.shape)\n"
   ]
  },
  {
   "cell_type": "code",
   "execution_count": 15,
   "metadata": {},
   "outputs": [
    {
     "name": "stderr",
     "output_type": "stream",
     "text": [
      "c:\\Users\\Victus\\AppData\\Local\\Programs\\Python\\Python39\\lib\\site-packages\\xgboost\\core.py:158: UserWarning: [19:45:41] WARNING: C:\\buildkite-agent\\builds\\buildkite-windows-cpu-autoscaling-group-i-0c55ff5f71b100e98-1\\xgboost\\xgboost-ci-windows\\src\\learner.cc:740: \n",
      "Parameters: { \"use_label_encoder\" } are not used.\n",
      "\n",
      "  warnings.warn(smsg, UserWarning)\n"
     ]
    },
    {
     "name": "stdout",
     "output_type": "stream",
     "text": [
      "📊 XGBoost Doğruluk Skoru: 0.655085135757018\n",
      "                                   precision    recall  f1-score   support\n",
      "\n",
      "             Fly / Airline Issues       0.84      0.57      0.68       859\n",
      "                  General Support       0.47      0.82      0.60      1011\n",
      "           Order / Payment Issues       0.75      0.54      0.63       965\n",
      "Retail / Grocery Store Complaints       0.68      0.61      0.64       518\n",
      "                     Tech Support       0.82      0.69      0.75       993\n",
      "\n",
      "                         accuracy                           0.66      4346\n",
      "                        macro avg       0.71      0.65      0.66      4346\n",
      "                     weighted avg       0.71      0.66      0.66      4346\n",
      "\n"
     ]
    }
   ],
   "source": [
    "from sklearn.metrics import accuracy_score\n",
    "from sklearn.metrics import classification_report\n",
    "from xgboost import XGBClassifier\n",
    "from sklearn.preprocessing import LabelEncoder\n",
    "\n",
    "# Encode the labels\n",
    "label_encoder = LabelEncoder()\n",
    "y_train_encoded = label_encoder.fit_transform(y_train)\n",
    "y_test_encoded = label_encoder.transform(y_test)\n",
    "\n",
    "joblib.dump(label_encoder, r'C:\\Users\\Victus\\Desktop\\AI Email Assistant\\models\\label_encoder.pkl')\n",
    "\n",
    "model_xgb = XGBClassifier(colsample_bytree=0.8, learning_rate=0.1, max_depth=9, n_estimators=3, use_label_encoder=False, eval_metric=\"mlogloss\")\n",
    "model_xgb.fit(X_train, y_train_encoded)\n",
    "\n",
    "y_pred_xgb = model_xgb.predict(X_test)\n",
    "\n",
    "print(\"📊 XGBoost Doğruluk Skoru:\", accuracy_score(y_test_encoded, y_pred_xgb))\n",
    "print(classification_report(y_test_encoded, y_pred_xgb, target_names=label_encoder.classes_))\n"
   ]
  },
  {
   "cell_type": "code",
   "execution_count": 16,
   "metadata": {},
   "outputs": [],
   "source": [
    "# from sklearn.model_selection import GridSearchCV\n",
    "# from xgboost import XGBClassifier\n",
    "\n",
    "# # XGBoost modelini oluştur\n",
    "# model_xgb = XGBClassifier(use_label_encoder=False, eval_metric=\"mlogloss\")\n",
    "\n",
    "# # Denenecek parametreler\n",
    "# param_grid = {\n",
    "#     'n_estimators': [100, 200, 300],\n",
    "#     'learning_rate': [0.01, 0.05, 0.1],\n",
    "#     'max_depth': [3, 6, 9],\n",
    "#     'subsample': [0.8, 0.9, 1.0],\n",
    "#     'colsample_bytree': [0.8, 0.9, 1.0]\n",
    "# }\n",
    "\n",
    "# # GridSearchCV ile hiperparametre optimizasyonu\n",
    "# grid_search = GridSearchCV(estimator=model_xgb, param_grid=param_grid, \n",
    "#                            scoring='accuracy', cv=3, verbose=1, n_jobs=-1)\n",
    "\n",
    "# # Eğitim verisiyle hiperparametre optimizasyonu yap\n",
    "# grid_search.fit(X_train, y_train_encoded)\n",
    "\n",
    "\n",
    "\n",
    "# # En iyi parametreleri ve doğruluk skorunu yazdır\n",
    "# print(\"En iyi parametreler:\", grid_search.best_params_)\n",
    "# print(\"En iyi doğruluk skoru:\", grid_search.best_score_)\n",
    "\n",
    "# # En iyi model ile tahmin yap\n",
    "# best_model = grid_search.best_estimator_\n",
    "# y_pred_best = best_model.predict(X_test)\n",
    "\n",
    "# # Sonuçları yazdır\n",
    "# print(\"📊 İyileştirilmiş XGBoost Doğruluk Skoru:\", accuracy_score(y_test_encoded, y_pred_best))\n",
    "# print(classification_report(y_test_encoded, y_pred_best, target_names=label_encoder.classes_))\n"
   ]
  },
  {
   "cell_type": "code",
   "execution_count": 17,
   "metadata": {},
   "outputs": [
    {
     "data": {
      "text/plain": [
       "['xgboost_email_classifier.pkl']"
      ]
     },
     "execution_count": 17,
     "metadata": {},
     "output_type": "execute_result"
    }
   ],
   "source": [
    "import joblib\n",
    "joblib.dump(model_xgb, 'xgboost_email_classifier.pkl')"
   ]
  },
  {
   "cell_type": "code",
   "execution_count": 18,
   "metadata": {},
   "outputs": [],
   "source": [
    "import joblib\n",
    "\n",
    "# Modeli yükle\n",
    "model = joblib.load('xgboost_email_classifier.pkl')\n"
   ]
  },
  {
   "cell_type": "code",
   "execution_count": 19,
   "metadata": {},
   "outputs": [
    {
     "name": "stdout",
     "output_type": "stream",
     "text": [
      "issue flight booking need assistance\n"
     ]
    },
    {
     "name": "stderr",
     "output_type": "stream",
     "text": [
      "[nltk_data] Downloading package punkt to\n",
      "[nltk_data]     C:\\Users\\Victus\\AppData\\Roaming\\nltk_data...\n",
      "[nltk_data]   Package punkt is already up-to-date!\n"
     ]
    }
   ],
   "source": [
    "import nltk\n",
    "nltk.download('punkt')\n",
    "\n",
    "# Tokenizasyon işlemi\n",
    "def tokenize(text):\n",
    "    return nltk.word_tokenize(text)\n",
    "\n",
    "\n",
    "def preprocess_with_tokenization(text):\n",
    "    # Temizleme (örneğin, özel karakterleri silme, küçük harfe çevirme, vs.)\n",
    "    text = text.lower()\n",
    "    text = ''.join([char for char in text if char.isalnum() or char.isspace()])\n",
    "    \n",
    "    # Tokenizasyon işlemi\n",
    "    tokens = tokenize(text)\n",
    "    \n",
    "    # Stopwords temizleme (isteğe bağlı)\n",
    "    stopwords = nltk.corpus.stopwords.words('english')\n",
    "    tokens = [word for word in tokens if word not in stopwords]\n",
    "    \n",
    "    # Sonuç\n",
    "    return \" \".join(tokens)\n",
    "\n",
    "# Örnek kullanım\n",
    "cleaned_email = preprocess_with_tokenization(\"I have an issue with my flight booking and need assistance.\")\n",
    "print(cleaned_email)\n"
   ]
  },
  {
   "cell_type": "code",
   "execution_count": null,
   "metadata": {},
   "outputs": [
    {
     "name": "stdout",
     "output_type": "stream",
     "text": [
      "Predicted Class: Order / Payment Issues\n"
     ]
    }
   ],
   "source": [
    "# Yeni gelen e-posta mesajı (örnek)\n",
    "new_email = \"I have an issue with my flight and I need help. Issue is my check-up service is suck.\"\n",
    "\n",
    "# Vektörleştirme (same transformer used during training)\n",
    "cleaned_email_vectorized = vectorizer.transform([cleaned_email])\n",
    "\n",
    "# Model ile tahmin yap\n",
    "predicted_class = model.predict(cleaned_email_vectorized)\n",
    "\n",
    "# Tahminin sonucu\n",
    "predicted_label = label_encoder.inverse_transform(predicted_class)\n",
    "print(f\"Predicted Class: {predicted_label[0]}\")"
   ]
  },
  {
   "cell_type": "code",
   "execution_count": null,
   "metadata": {},
   "outputs": [],
   "source": []
  }
 ],
 "metadata": {
  "kernelspec": {
   "display_name": "Python 3",
   "language": "python",
   "name": "python3"
  },
  "language_info": {
   "codemirror_mode": {
    "name": "ipython",
    "version": 3
   },
   "file_extension": ".py",
   "mimetype": "text/x-python",
   "name": "python",
   "nbconvert_exporter": "python",
   "pygments_lexer": "ipython3",
   "version": "3.9.13"
  }
 },
 "nbformat": 4,
 "nbformat_minor": 2
}
